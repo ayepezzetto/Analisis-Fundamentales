{
 "cells": [
  {
   "cell_type": "code",
   "execution_count": 28,
   "metadata": {},
   "outputs": [],
   "source": [
    "import matplotlib.pyplot as plt\n",
    "import pandas as pd\n",
    "import requests\n",
    "import json \n"
   ]
  },
  {
   "cell_type": "code",
   "execution_count": 29,
   "metadata": {},
   "outputs": [],
   "source": [
    "TOKEN = '2RG2NEF3IPXMIPX3'"
   ]
  },
  {
   "cell_type": "code",
   "execution_count": 30,
   "metadata": {},
   "outputs": [
    {
     "name": "stdout",
     "output_type": "stream",
     "text": [
      "{\n",
      "   \"Crypto Rating (FCAS)\": {\n",
      "      \"1. symbol\": \"BTC\",\n",
      "      \"2. name\": \"Bitcoin\",\n",
      "      \"3. fcas rating\": \"Superb\",\n",
      "      \"4. fcas score\": \"905\",\n",
      "      \"5. developer score\": \"860\",\n",
      "      \"6. market maturity score\": \"882\",\n",
      "      \"7. utility score\": \"965\",\n",
      "      \"8. last refreshed\": \"2021-01-14 00:00:00\",\n",
      "      \"9. timezone\": \"UTC\"\n",
      "   }\n",
      "}\n"
     ]
    }
   ],
   "source": [
    "def cryptoRank(symbol): \n",
    "    function='CRYPTO_RATING'\n",
    "    url = 'https://www.alphavantage.co/query'\n",
    "    parametros = {'function':function, 'symbol':symbol, 'apikey': TOKEN}\n",
    "    \n",
    "    r = requests.get(url, params = parametros)\n",
    "    return r.json()\n",
    "\n",
    "data = cryptoRank ('BTC')\n",
    "print(json.dumps(data, indent=3))"
   ]
  },
  {
   "cell_type": "code",
   "execution_count": 31,
   "metadata": {},
   "outputs": [
    {
     "name": "stdout",
     "output_type": "stream",
     "text": [
      "{\n",
      "   \"Crypto Rating (FCAS)\": {\n",
      "      \"1. symbol\": \"ETH\",\n",
      "      \"2. name\": \"Ethereum\",\n",
      "      \"3. fcas rating\": \"Superb\",\n",
      "      \"4. fcas score\": \"974\",\n",
      "      \"5. developer score\": \"969\",\n",
      "      \"6. market maturity score\": \"901\",\n",
      "      \"7. utility score\": \"996\",\n",
      "      \"8. last refreshed\": \"2021-01-14 00:00:00\",\n",
      "      \"9. timezone\": \"UTC\"\n",
      "   }\n",
      "}\n"
     ]
    }
   ],
   "source": [
    "data = cryptoRank ('ETH')\n",
    "print(json.dumps(data, indent=3))"
   ]
  },
  {
   "cell_type": "code",
   "execution_count": 32,
   "metadata": {},
   "outputs": [
    {
     "name": "stdout",
     "output_type": "stream",
     "text": [
      "{\n",
      "   \"Crypto Rating (FCAS)\": {\n",
      "      \"1. symbol\": \"LINK\",\n",
      "      \"2. name\": \"Chainlink\",\n",
      "      \"3. fcas rating\": \"Superb\",\n",
      "      \"4. fcas score\": \"933\",\n",
      "      \"5. developer score\": \"923\",\n",
      "      \"6. market maturity score\": \"858\",\n",
      "      \"7. utility score\": \"960\",\n",
      "      \"8. last refreshed\": \"2021-01-14 00:00:00\",\n",
      "      \"9. timezone\": \"UTC\"\n",
      "   }\n",
      "}\n"
     ]
    }
   ],
   "source": [
    "data = cryptoRank ('LINK')\n",
    "print(json.dumps(data, indent=3))"
   ]
  },
  {
   "cell_type": "code",
   "execution_count": 33,
   "metadata": {},
   "outputs": [
    {
     "name": "stdout",
     "output_type": "stream",
     "text": [
      "{\n",
      "   \"Crypto Rating (FCAS)\": {\n",
      "      \"1. symbol\": \"ADA\",\n",
      "      \"2. name\": \"Cardano\",\n",
      "      \"3. fcas rating\": \"Superb\",\n",
      "      \"4. fcas score\": \"935\",\n",
      "      \"5. developer score\": \"965\",\n",
      "      \"6. market maturity score\": \"924\",\n",
      "      \"7. utility score\": \"901\",\n",
      "      \"8. last refreshed\": \"2021-01-14 00:00:00\",\n",
      "      \"9. timezone\": \"UTC\"\n",
      "   }\n",
      "}\n"
     ]
    }
   ],
   "source": [
    "data = cryptoRank ('ADA')\n",
    "print(json.dumps(data, indent=3))"
   ]
  },
  {
   "cell_type": "code",
   "execution_count": 34,
   "metadata": {},
   "outputs": [
    {
     "name": "stdout",
     "output_type": "stream",
     "text": [
      "{\n",
      "   \"Crypto Rating (FCAS)\": {\n",
      "      \"1. symbol\": \"XTZ\",\n",
      "      \"2. name\": \"Tezos\",\n",
      "      \"3. fcas rating\": \"Attractive\",\n",
      "      \"4. fcas score\": \"769\",\n",
      "      \"5. developer score\": \"746\",\n",
      "      \"6. market maturity score\": \"825\",\n",
      "      \"7. utility score\": \"787\",\n",
      "      \"8. last refreshed\": \"2021-01-14 00:00:00\",\n",
      "      \"9. timezone\": \"UTC\"\n",
      "   }\n",
      "}\n"
     ]
    }
   ],
   "source": [
    "data = cryptoRank ('XTZ')\n",
    "print(json.dumps(data, indent=3))"
   ]
  },
  {
   "cell_type": "code",
   "execution_count": 42,
   "metadata": {},
   "outputs": [
    {
     "data": {
      "text/plain": [
       "<matplotlib.legend.Legend at 0x1936369a670>"
      ]
     },
     "execution_count": 42,
     "metadata": {},
     "output_type": "execute_result"
    },
    {
     "data": {
      "image/png": "[encoded data removed]",
      "text/plain": [
       "<Figure size 864x432 with 1 Axes>"
      ]
     },
     "metadata": {
      "needs_background": "light"
     },
     "output_type": "display_data"
    }
   ],
   "source": [
    "# Definimos las criptos\n",
    "cryptos =['BTC', 'ETH','LINK','ADA','XTZ']\n",
    "\n",
    "df = pd.DataFrame()\n",
    "for i in range(len(cryptos)):\n",
    "    data =cryptoRank(cryptos[i])['Crypto Rating (FCAS)']\n",
    "    dataDF = pd.DataFrame(data, index=[i])\n",
    "    df = pd.concat([df, dataDF])\n",
    "    \n",
    "df = df.drop(['3. fcas rating', '8. last refreshed', '9. timezone'], axis=1)\n",
    "df.columns = ['Symbol', 'Name', 'FCAS Score', 'Developer', 'Mkt Maturity', 'Utility']\n",
    "\n",
    "claves = ['FCAS Score', 'Developer', 'Mkt Maturity', 'Utility']\n",
    "\n",
    "for clave in claves:\n",
    "    df[clave] = df[clave].astype('float')\n",
    "    \n",
    "fig, ax = plt.subplots(figsize=(12,6))\n",
    "ax.bar(df.Symbol, df['Developer'], label='Score desarroladores', ec='k')\n",
    "ax.bar(df.Symbol, df['Mkt Maturity'], bottom=df['Developer'], label='Madurez de Mercado', ec='k')\n",
    "ax.bar(df.Symbol, df['Utility'],bottom=(df['Mkt Maturity'] + df['Developer']), label='Score utilidad para usuarios', ec='k')\n",
    "\n",
    "plt.title(\"COMPARACIÓN DE FUNDAMENTALES\", size = 22)\n",
    "plt.legend()"
   ]
  },
  {
   "cell_type": "code",
   "execution_count": null,
   "metadata": {},
   "outputs": [],
   "source": []
  },
  {
   "cell_type": "code",
   "execution_count": null,
   "metadata": {},
   "outputs": [],
   "source": []
  }
 ],
 "metadata": {
  "kernelspec": {
   "display_name": "Python 3",
   "language": "python",
   "name": "python3"
  },
  "language_info": {
   "codemirror_mode": {
    "name": "ipython",
    "version": 3
   },
   "file_extension": ".py",
   "mimetype": "text/x-python",
   "name": "python",
   "nbconvert_exporter": "python",
   "pygments_lexer": "ipython3",
   "version": "3.8.5"
  }
 },
 "nbformat": 4,
 "nbformat_minor": 4
}
